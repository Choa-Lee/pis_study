{
  "nbformat": 4,
  "nbformat_minor": 0,
  "metadata": {
    "colab": {
      "name": "covid_classification.ipynb",
      "provenance": [],
      "toc_visible": true
    },
    "kernelspec": {
      "name": "python3",
      "display_name": "Python 3"
    },
    "accelerator": "GPU"
  },
  "cells": [
    {
      "cell_type": "markdown",
      "metadata": {
        "id": "zAC08W829rMa",
        "colab_type": "text"
      },
      "source": [
        "# Detecting COVID-19 in X-ray images with Keras, TensorFlow, and Deep Learning\n",
        "\n",
        "원 문서 : https://www.pyimagesearch.com/2020/03/16/detecting-covid-19-in-x-ray-images-with-keras-tensorflow-and-deep-learning/"
      ]
    },
    {
      "cell_type": "markdown",
      "metadata": {
        "id": "J8Bjm_nuDAR6",
        "colab_type": "text"
      },
      "source": [
        "PROJECT STRUCTURE\n",
        "\n",
        "      dataset/\n",
        "        covid/\n",
        "        normal/\n",
        "      build_covid_dataset.py\n",
        "      sample_kaggle_dataset.py\n",
        "      train_covid19.py\n",
        "      plot.png\n",
        "      covid19.model"
      ]
    },
    {
      "cell_type": "markdown",
      "metadata": {
        "id": "B3B2eCE0DtHj",
        "colab_type": "text"
      },
      "source": [
        "# 데이터 준비"
      ]
    },
    {
      "cell_type": "code",
      "metadata": {
        "id": "eCabacWzJoMb",
        "colab_type": "code",
        "colab": {
          "base_uri": "https://localhost:8080/",
          "height": 314
        },
        "outputId": "4e1461f4-91e4-4951-c0b6-e8aa4b50f2dd"
      },
      "source": [
        "!wget https://github.com/dhrim/pis_study/raw/master/covid_classification/dataset.tar.gz"
      ],
      "execution_count": null,
      "outputs": [
        {
          "output_type": "stream",
          "text": [
            "--2020-07-21 11:34:34--  https://github.com/dhrim/pis_study/raw/master/covid_classification/dataset.tar.gz\n",
            "Resolving github.com (github.com)... 140.82.112.4\n",
            "Connecting to github.com (github.com)|140.82.112.4|:443... connected.\n",
            "HTTP request sent, awaiting response... 302 Found\n",
            "Location: https://raw.githubusercontent.com/dhrim/pis_study/master/covid_classification/dataset.tar.gz [following]\n",
            "--2020-07-21 11:34:35--  https://raw.githubusercontent.com/dhrim/pis_study/master/covid_classification/dataset.tar.gz\n",
            "Resolving raw.githubusercontent.com (raw.githubusercontent.com)... 151.101.0.133, 151.101.64.133, 151.101.128.133, ...\n",
            "Connecting to raw.githubusercontent.com (raw.githubusercontent.com)|151.101.0.133|:443... connected.\n",
            "HTTP request sent, awaiting response... 200 OK\n",
            "Length: 12509198 (12M) [application/octet-stream]\n",
            "Saving to: ‘dataset.tar.gz’\n",
            "\n",
            "dataset.tar.gz      100%[===================>]  11.93M  21.5MB/s    in 0.6s    \n",
            "\n",
            "2020-07-21 11:34:38 (21.5 MB/s) - ‘dataset.tar.gz’ saved [12509198/12509198]\n",
            "\n"
          ],
          "name": "stdout"
        }
      ]
    },
    {
      "cell_type": "code",
      "metadata": {
        "id": "60-2k07d19oW",
        "colab_type": "code",
        "colab": {
          "base_uri": "https://localhost:8080/",
          "height": 1000
        },
        "outputId": "b206dd8f-04c7-473f-f190-2f401f7d2574"
      },
      "source": [
        "!tar xvfz dataset.tar.gz"
      ],
      "execution_count": null,
      "outputs": [
        {
          "output_type": "stream",
          "text": [
            "./._dataset\n",
            "dataset/\n",
            "dataset/._.DS_Store\n",
            "dataset/.DS_Store\n",
            "dataset/._covid\n",
            "dataset/covid/\n",
            "dataset/._normal\n",
            "dataset/normal/\n",
            "dataset/normal/._IM-0033-0001-0001.jpeg\n",
            "dataset/normal/IM-0033-0001-0001.jpeg\n",
            "dataset/normal/._IM-0240-0001.jpeg\n",
            "dataset/normal/IM-0240-0001.jpeg\n",
            "dataset/normal/._IM-0466-0001.jpeg\n",
            "dataset/normal/IM-0466-0001.jpeg\n",
            "dataset/normal/._NORMAL2-IM-0315-0001.jpeg\n",
            "dataset/normal/NORMAL2-IM-0315-0001.jpeg\n",
            "dataset/normal/._NORMAL2-IM-0696-0001.jpeg\n",
            "dataset/normal/NORMAL2-IM-0696-0001.jpeg\n",
            "dataset/normal/._NORMAL2-IM-0869-0001.jpeg\n",
            "dataset/normal/NORMAL2-IM-0869-0001.jpeg\n",
            "dataset/normal/._NORMAL2-IM-1179-0001.jpeg\n",
            "dataset/normal/NORMAL2-IM-1179-0001.jpeg\n",
            "dataset/normal/._person1102_bacteria_3043.jpeg\n",
            "dataset/normal/person1102_bacteria_3043.jpeg\n",
            "dataset/normal/._person1290_virus_2215.jpeg\n",
            "dataset/normal/person1290_virus_2215.jpeg\n",
            "dataset/normal/._person1558_bacteria_4066.jpeg\n",
            "dataset/normal/person1558_bacteria_4066.jpeg\n",
            "dataset/normal/._person1599_virus_2776.jpeg\n",
            "dataset/normal/person1599_virus_2776.jpeg\n",
            "dataset/normal/._person1830_bacteria_4693.jpeg\n",
            "dataset/normal/person1830_bacteria_4693.jpeg\n",
            "dataset/normal/._person1935_bacteria_4849.jpeg\n",
            "dataset/normal/person1935_bacteria_4849.jpeg\n",
            "dataset/normal/._person1_bacteria_2.jpeg\n",
            "dataset/normal/person1_bacteria_2.jpeg\n",
            "dataset/normal/._person259_bacteria_1220.jpeg\n",
            "dataset/normal/person259_bacteria_1220.jpeg\n",
            "dataset/normal/._person339_bacteria_1574.jpeg\n",
            "dataset/normal/person339_bacteria_1574.jpeg\n",
            "dataset/normal/._person378_virus_761.jpeg\n",
            "dataset/normal/person378_virus_761.jpeg\n",
            "dataset/normal/._person438_bacteria_1893.jpeg\n",
            "dataset/normal/person438_bacteria_1893.jpeg\n",
            "dataset/normal/._person525_bacteria_2216.jpeg\n",
            "dataset/normal/person525_bacteria_2216.jpeg\n",
            "dataset/normal/._person612_bacteria_2478.jpeg\n",
            "dataset/normal/person612_bacteria_2478.jpeg\n",
            "dataset/normal/._person651_bacteria_2543.jpeg\n",
            "dataset/normal/person651_bacteria_2543.jpeg\n",
            "dataset/normal/._person925_virus_1582.jpeg\n",
            "dataset/normal/person925_virus_1582.jpeg\n",
            "dataset/normal/._person934_virus_1595.jpeg\n",
            "dataset/normal/person934_virus_1595.jpeg\n",
            "dataset/normal/._person939_bacteria_2864.jpeg\n",
            "dataset/normal/person939_bacteria_2864.jpeg\n",
            "dataset/normal/._person989_virus_1667.jpeg\n",
            "dataset/normal/person989_virus_1667.jpeg\n",
            "dataset/covid/._1-s2.0-S0140673620303706-fx1_lrg.jpg\n",
            "dataset/covid/1-s2.0-S0140673620303706-fx1_lrg.jpg\n",
            "dataset/covid/._1-s2.0-S0929664620300449-gr2_lrg-a.jpg\n",
            "dataset/covid/1-s2.0-S0929664620300449-gr2_lrg-a.jpg\n",
            "dataset/covid/._1-s2.0-S0929664620300449-gr2_lrg-b.jpg\n",
            "dataset/covid/1-s2.0-S0929664620300449-gr2_lrg-b.jpg\n",
            "dataset/covid/._1-s2.0-S0929664620300449-gr2_lrg-c.jpg\n",
            "dataset/covid/1-s2.0-S0929664620300449-gr2_lrg-c.jpg\n",
            "dataset/covid/._1-s2.0-S0929664620300449-gr2_lrg-d.jpg\n",
            "dataset/covid/1-s2.0-S0929664620300449-gr2_lrg-d.jpg\n",
            "dataset/covid/._auntminnie-a-2020_01_28_23_51_6665_2020_01_28_Vietnam_coronavirus.jpeg\n",
            "dataset/covid/auntminnie-a-2020_01_28_23_51_6665_2020_01_28_Vietnam_coronavirus.jpeg\n",
            "dataset/covid/._auntminnie-b-2020_01_28_23_51_6665_2020_01_28_Vietnam_coronavirus.jpeg\n",
            "dataset/covid/auntminnie-b-2020_01_28_23_51_6665_2020_01_28_Vietnam_coronavirus.jpeg\n",
            "dataset/covid/._auntminnie-c-2020_01_28_23_51_6665_2020_01_28_Vietnam_coronavirus.jpeg\n",
            "dataset/covid/auntminnie-c-2020_01_28_23_51_6665_2020_01_28_Vietnam_coronavirus.jpeg\n",
            "dataset/covid/._auntminnie-d-2020_01_28_23_51_6665_2020_01_28_Vietnam_coronavirus.jpeg\n",
            "dataset/covid/auntminnie-d-2020_01_28_23_51_6665_2020_01_28_Vietnam_coronavirus.jpeg\n",
            "dataset/covid/._lancet-case2a.jpg\n",
            "dataset/covid/lancet-case2a.jpg\n",
            "dataset/covid/._lancet-case2b.jpg\n",
            "dataset/covid/lancet-case2b.jpg\n",
            "dataset/covid/._nCoV-radiol.2020200269.fig1-day7.jpeg\n",
            "dataset/covid/nCoV-radiol.2020200269.fig1-day7.jpeg\n",
            "dataset/covid/._nejmc2001573_f1a.jpeg\n",
            "dataset/covid/nejmc2001573_f1a.jpeg\n",
            "dataset/covid/._nejmc2001573_f1b.jpeg\n",
            "dataset/covid/nejmc2001573_f1b.jpeg\n",
            "dataset/covid/._nejmoa2001191_f1-PA.jpeg\n",
            "dataset/covid/nejmoa2001191_f1-PA.jpeg\n",
            "dataset/covid/._nejmoa2001191_f3-PA.jpeg\n",
            "dataset/covid/nejmoa2001191_f3-PA.jpeg\n",
            "dataset/covid/._nejmoa2001191_f4.jpeg\n",
            "dataset/covid/nejmoa2001191_f4.jpeg\n",
            "dataset/covid/._nejmoa2001191_f5-PA.jpeg\n",
            "dataset/covid/nejmoa2001191_f5-PA.jpeg\n",
            "dataset/covid/._radiol.2020200490.fig3.jpeg\n",
            "dataset/covid/radiol.2020200490.fig3.jpeg\n",
            "dataset/covid/._radiopedia-covid-19-pneumonia-2.jpg\n",
            "dataset/covid/radiopedia-covid-19-pneumonia-2.jpg\n",
            "dataset/covid/._ryct.2020200028.fig1a.jpeg\n",
            "dataset/covid/ryct.2020200028.fig1a.jpeg\n",
            "dataset/covid/._ryct.2020200034.fig2.jpeg\n",
            "dataset/covid/ryct.2020200034.fig2.jpeg\n",
            "dataset/covid/._ryct.2020200034.fig5-day0.jpeg\n",
            "dataset/covid/ryct.2020200034.fig5-day0.jpeg\n",
            "dataset/covid/._ryct.2020200034.fig5-day4.jpeg\n",
            "dataset/covid/ryct.2020200034.fig5-day4.jpeg\n",
            "dataset/covid/._ryct.2020200034.fig5-day7.jpeg\n",
            "dataset/covid/ryct.2020200034.fig5-day7.jpeg\n"
          ],
          "name": "stdout"
        }
      ]
    },
    {
      "cell_type": "code",
      "metadata": {
        "id": "qSebPWab21E9",
        "colab_type": "code",
        "colab": {
          "base_uri": "https://localhost:8080/",
          "height": 173
        },
        "outputId": "45401272-04be-4e9e-8de6-e0e6fef0de9c"
      },
      "source": [
        "ls -al"
      ],
      "execution_count": null,
      "outputs": [
        {
          "output_type": "stream",
          "text": [
            "total 12260\n",
            "drwxr-xr-x 1 root root     4096 Jul 21 11:00 \u001b[0m\u001b[01;34m.\u001b[0m/\n",
            "drwxr-xr-x 1 root root     4096 Jul 21 10:40 \u001b[01;34m..\u001b[0m/\n",
            "drwxr-xr-x 1 root root     4096 Jul 15 16:11 \u001b[01;34m.config\u001b[0m/\n",
            "drwxr-xr-x 4 root root     4096 Mar 13 04:58 \u001b[01;34mdataset\u001b[0m/\n",
            "-rw------- 1 root root 12523271 Jul 21 11:00 dataset.zip\n",
            "drwx------ 4 root root     4096 Jul 21 11:00 \u001b[01;34mdrive\u001b[0m/\n",
            "drwxrwxr-x 3 root root     4096 Jul 21 10:49 \u001b[01;34m__MACOSX\u001b[0m/\n",
            "drwxr-xr-x 1 root root     4096 Jul 10 16:29 \u001b[01;34msample_data\u001b[0m/\n"
          ],
          "name": "stdout"
        }
      ]
    },
    {
      "cell_type": "code",
      "metadata": {
        "id": "mMcO_0dQDXxf",
        "colab_type": "code",
        "colab": {}
      },
      "source": [
        "# import the necessary packages\n",
        "from tensorflow.keras.preprocessing.image import ImageDataGenerator\n",
        "from tensorflow.keras.applications import VGG16\n",
        "from tensorflow.keras.layers import AveragePooling2D\n",
        "from tensorflow.keras.layers import Dropout\n",
        "from tensorflow.keras.layers import Flatten\n",
        "from tensorflow.keras.layers import Dense\n",
        "from tensorflow.keras.layers import Input\n",
        "from tensorflow.keras.models import Model\n",
        "from tensorflow.keras.optimizers import Adam\n",
        "from tensorflow.keras.utils import to_categorical\n",
        "from sklearn.preprocessing import LabelBinarizer\n",
        "from sklearn.model_selection import train_test_split\n",
        "from sklearn.metrics import classification_report\n",
        "from sklearn.metrics import confusion_matrix\n",
        "from imutils import paths\n",
        "import matplotlib.pyplot as plt\n",
        "import numpy as np\n",
        "import argparse\n",
        "import cv2\n",
        "import os"
      ],
      "execution_count": null,
      "outputs": []
    },
    {
      "cell_type": "markdown",
      "metadata": {
        "id": "r9zhFhoiCUum",
        "colab_type": "text"
      },
      "source": [
        "## 실행 설정"
      ]
    },
    {
      "cell_type": "code",
      "metadata": {
        "id": "KTQuszu9FkbP",
        "colab_type": "code",
        "colab": {}
      },
      "source": [
        "# # construct the argument parser and parse the arguments\n",
        "# ap = argparse.ArgumentParser()\n",
        "# ap.add_argument(\"-d\", \"--dataset\", required=True, \n",
        "#                 help=\"path to input dataset\")\n",
        "# ap.add_argument(\"-p\", \"--plot\", type=str, default=\"plot.png\", \n",
        "#                 help=\"path to output loss/accuracy plot\")\n",
        "# ap.add_argument(\"-m\", \"--model\", type=str, default=\"covid19.model\", \n",
        "#                 help=\"path to output loss/accuracy plot\")\n",
        "# args = vars(ap.parse_args())\n",
        "\n",
        "# construct the above arguments in dictionary\n",
        "args = {'dataset':'dataset', 'plot':'plot.png', 'model':'covid19.model'}\n",
        "\n",
        "# initialize the initial learning rate, number of epochs to train for,\n",
        "# and batch size\n",
        "INIT_LR = 1e-3\n",
        "EPOCHS = 25\n",
        "BS = 8"
      ],
      "execution_count": null,
      "outputs": []
    },
    {
      "cell_type": "markdown",
      "metadata": {
        "id": "ZrWr8bfSCQ7m",
        "colab_type": "text"
      },
      "source": [
        "## 이미지 로딩과 레이블 만들기"
      ]
    },
    {
      "cell_type": "code",
      "metadata": {
        "id": "XwZVd7rXMXwL",
        "colab_type": "code",
        "colab": {
          "base_uri": "https://localhost:8080/",
          "height": 35
        },
        "outputId": "a6a5c80e-e9eb-4844-f318-0e77108af222"
      },
      "source": [
        "# grab the list of images in our dataset directory, then initialize\n",
        "# the list of data (i.e., images) and class images\n",
        "print('[INFO] loading images...')\n",
        "imagePaths = list(paths.list_images(args['dataset']))\n",
        "data = []\n",
        "labels = []\n",
        "\n",
        "# loop over the image paths\n",
        "for imagePath in imagePaths:\n",
        "  # extract the class label from the filename\n",
        "  label = imagePath.split(os.path.sep)[-2]\n",
        "\n",
        "  # load the image, swap color channels, and resize it to be a fixed\n",
        "  # 224 x 224 pixels while ignoring aspect ratio\n",
        "  image = cv2.imread(imagePath)\n",
        "  image = cv2.cvtColor(image, cv2.COLOR_BGR2RGB)\n",
        "  image = cv2.resize(image, (224, 224))\n",
        "\n",
        "  # update the data and labels lists, respectively\n",
        "  data.append(image)\n",
        "  labels.append(label)\n",
        "\n",
        "# convert the data and labels to NumPy arrays while scaling the pixel \n",
        "# intensities to the range [0, 1]\n",
        "data = np.array(data) / 255.0\n",
        "labels = np.array(labels)"
      ],
      "execution_count": null,
      "outputs": [
        {
          "output_type": "stream",
          "text": [
            "[INFO] loading images...\n"
          ],
          "name": "stdout"
        }
      ]
    },
    {
      "cell_type": "code",
      "metadata": {
        "id": "lqwOGeT_9-Pn",
        "colab_type": "code",
        "colab": {
          "base_uri": "https://localhost:8080/",
          "height": 69
        },
        "outputId": "59726011-1b4d-4ef7-bcf6-ce1d6a1388fa"
      },
      "source": [
        "print(imagePaths[0])\n",
        "print(imagePaths[25])\n",
        "# print(data[0])\n",
        "print(labels[0], labels[24], labels[25])"
      ],
      "execution_count": null,
      "outputs": [
        {
          "output_type": "stream",
          "text": [
            "dataset/normal/person1102_bacteria_3043.jpeg\n",
            "dataset/covid/1-s2.0-S0929664620300449-gr2_lrg-c.jpg\n",
            "normal normal covid\n"
          ],
          "name": "stdout"
        }
      ]
    },
    {
      "cell_type": "markdown",
      "metadata": {
        "id": "Mlz0mXfVCwuK",
        "colab_type": "text"
      },
      "source": [
        "## 레이블링 데이터 one-hot 인코딩"
      ]
    },
    {
      "cell_type": "code",
      "metadata": {
        "id": "AkUHVxd5OUkB",
        "colab_type": "code",
        "colab": {}
      },
      "source": [
        "# perform one-hot encoding on the labels\n",
        "lb = LabelBinarizer()\n",
        "labels = lb.fit_transform(labels)\n",
        "labels = to_categorical(labels)\n",
        "\n",
        "# partition the data into training and testing splits using 80% of\n",
        "# the data for training and the remaining 20% for testing\n",
        "(trainX, testX, trainY, testY) = train_test_split(data, labels, test_size=0.20, \n",
        "                                                  stratify=labels, random_state=42)\n",
        "\n",
        "# initialize the training data augmentation object\n",
        "trainAug = ImageDataGenerator(rotation_range=15, fill_mode='nearest')"
      ],
      "execution_count": null,
      "outputs": []
    },
    {
      "cell_type": "code",
      "metadata": {
        "id": "3r7sJyrrINAb",
        "colab_type": "code",
        "colab": {
          "base_uri": "https://localhost:8080/",
          "height": 69
        },
        "outputId": "6a01e811-93ad-4261-a5b7-1e2ba47903d0"
      },
      "source": [
        "labels[0], labels[24], labels[25]"
      ],
      "execution_count": null,
      "outputs": [
        {
          "output_type": "execute_result",
          "data": {
            "text/plain": [
              "(array([0., 1.], dtype=float32),\n",
              " array([0., 1.], dtype=float32),\n",
              " array([1., 0.], dtype=float32))"
            ]
          },
          "metadata": {
            "tags": []
          },
          "execution_count": 13
        }
      ]
    },
    {
      "cell_type": "code",
      "metadata": {
        "id": "KbhSX2u-xpmr",
        "colab_type": "code",
        "colab": {
          "base_uri": "https://localhost:8080/",
          "height": 86
        },
        "outputId": "7fecfccb-f0d4-41bf-d00c-9d55e39b7aae"
      },
      "source": [
        "print(trainX.shape)\n",
        "print(testX.shape)\n",
        "print(trainY.shape)\n",
        "print(testY.shape)"
      ],
      "execution_count": null,
      "outputs": [
        {
          "output_type": "stream",
          "text": [
            "(40, 224, 224, 3)\n",
            "(10, 224, 224, 3)\n",
            "(40, 2)\n",
            "(10, 2)\n"
          ],
          "name": "stdout"
        }
      ]
    },
    {
      "cell_type": "markdown",
      "metadata": {
        "id": "5MBvudxFC5EF",
        "colab_type": "text"
      },
      "source": [
        "# 모델 정의"
      ]
    },
    {
      "cell_type": "code",
      "metadata": {
        "id": "6HgGjlifITZw",
        "colab_type": "code",
        "colab": {
          "base_uri": "https://localhost:8080/",
          "height": 72
        },
        "outputId": "c2508782-8b44-4161-ad15-7979c17c3ef8"
      },
      "source": [
        "# load the VGG16 network, ensuring the head FC layer sets \n",
        "# are left off\n",
        "baseModel = VGG16(weights='imagenet', include_top=False, \n",
        "                  input_tensor=Input(shape=(224, 224, 3)))\n",
        "\n",
        "# construct the head of the model that will be placed on top of the\n",
        "# the base model\n",
        "headModel = baseModel.output\n",
        "headModel = AveragePooling2D(pool_size=(4, 4))(headModel)\n",
        "headModel = Flatten(name='flatten')(headModel)\n",
        "headModel = Dense(64, activation='relu')(headModel)\n",
        "headModel = Dropout(0.5)(headModel)\n",
        "headModel = Dense(2, activation='softmax')(headModel)\n",
        "\n",
        "# place the head FC model on top of the base model (this will become\n",
        "# the actual model we will train)\n",
        "model = Model(inputs=baseModel.input, outputs=headModel)\n",
        "\n",
        "# loop over all layers in the base model and freeze them so they will\n",
        "# *not* be updated during the first training process\n",
        "for layer in baseModel.layers:\n",
        "  layer.trainable = False"
      ],
      "execution_count": null,
      "outputs": [
        {
          "output_type": "stream",
          "text": [
            "Downloading data from https://storage.googleapis.com/tensorflow/keras-applications/vgg16/vgg16_weights_tf_dim_ordering_tf_kernels_notop.h5\n",
            "58892288/58889256 [==============================] - 1s 0us/step\n"
          ],
          "name": "stdout"
        }
      ]
    },
    {
      "cell_type": "code",
      "metadata": {
        "id": "cqFA2F235elM",
        "colab_type": "code",
        "colab": {
          "base_uri": "https://localhost:8080/",
          "height": 985
        },
        "outputId": "a4c04705-10d7-4e3c-af29-2fd107b788ce"
      },
      "source": [
        "model.summary()"
      ],
      "execution_count": null,
      "outputs": [
        {
          "output_type": "stream",
          "text": [
            "Model: \"model\"\n",
            "_________________________________________________________________\n",
            "Layer (type)                 Output Shape              Param #   \n",
            "=================================================================\n",
            "input_1 (InputLayer)         [(None, 224, 224, 3)]     0         \n",
            "_________________________________________________________________\n",
            "block1_conv1 (Conv2D)        (None, 224, 224, 64)      1792      \n",
            "_________________________________________________________________\n",
            "block1_conv2 (Conv2D)        (None, 224, 224, 64)      36928     \n",
            "_________________________________________________________________\n",
            "block1_pool (MaxPooling2D)   (None, 112, 112, 64)      0         \n",
            "_________________________________________________________________\n",
            "block2_conv1 (Conv2D)        (None, 112, 112, 128)     73856     \n",
            "_________________________________________________________________\n",
            "block2_conv2 (Conv2D)        (None, 112, 112, 128)     147584    \n",
            "_________________________________________________________________\n",
            "block2_pool (MaxPooling2D)   (None, 56, 56, 128)       0         \n",
            "_________________________________________________________________\n",
            "block3_conv1 (Conv2D)        (None, 56, 56, 256)       295168    \n",
            "_________________________________________________________________\n",
            "block3_conv2 (Conv2D)        (None, 56, 56, 256)       590080    \n",
            "_________________________________________________________________\n",
            "block3_conv3 (Conv2D)        (None, 56, 56, 256)       590080    \n",
            "_________________________________________________________________\n",
            "block3_pool (MaxPooling2D)   (None, 28, 28, 256)       0         \n",
            "_________________________________________________________________\n",
            "block4_conv1 (Conv2D)        (None, 28, 28, 512)       1180160   \n",
            "_________________________________________________________________\n",
            "block4_conv2 (Conv2D)        (None, 28, 28, 512)       2359808   \n",
            "_________________________________________________________________\n",
            "block4_conv3 (Conv2D)        (None, 28, 28, 512)       2359808   \n",
            "_________________________________________________________________\n",
            "block4_pool (MaxPooling2D)   (None, 14, 14, 512)       0         \n",
            "_________________________________________________________________\n",
            "block5_conv1 (Conv2D)        (None, 14, 14, 512)       2359808   \n",
            "_________________________________________________________________\n",
            "block5_conv2 (Conv2D)        (None, 14, 14, 512)       2359808   \n",
            "_________________________________________________________________\n",
            "block5_conv3 (Conv2D)        (None, 14, 14, 512)       2359808   \n",
            "_________________________________________________________________\n",
            "block5_pool (MaxPooling2D)   (None, 7, 7, 512)         0         \n",
            "_________________________________________________________________\n",
            "average_pooling2d (AveragePo (None, 1, 1, 512)         0         \n",
            "_________________________________________________________________\n",
            "flatten (Flatten)            (None, 512)               0         \n",
            "_________________________________________________________________\n",
            "dense (Dense)                (None, 64)                32832     \n",
            "_________________________________________________________________\n",
            "dropout (Dropout)            (None, 64)                0         \n",
            "_________________________________________________________________\n",
            "dense_1 (Dense)              (None, 2)                 130       \n",
            "=================================================================\n",
            "Total params: 14,747,650\n",
            "Trainable params: 32,962\n",
            "Non-trainable params: 14,714,688\n",
            "_________________________________________________________________\n"
          ],
          "name": "stdout"
        }
      ]
    },
    {
      "cell_type": "code",
      "metadata": {
        "id": "qcmJ1HA7MUAm",
        "colab_type": "code",
        "colab": {
          "base_uri": "https://localhost:8080/",
          "height": 987
        },
        "outputId": "446d0299-5ef2-41b8-cb24-5b7759c2725c"
      },
      "source": [
        "# compile our model\n",
        "print('[INFO] compiling model...')\n",
        "opt = Adam(lr=INIT_LR, decay=INIT_LR / EPOCHS)\n",
        "model.compile(loss='binary_crossentropy', optimizer=opt, metrics=['accuracy'])\n",
        "\n",
        "# train the head of the network\n",
        "print('[INFO] training head...')\n",
        "H = model.fit_generator(trainAug.flow(trainX, trainY, batch_size=BS),\n",
        "                        steps_per_epoch=len(trainX) // BS,\n",
        "                        validation_data=(testX, testY),\n",
        "                        validation_steps=len(testX) // BS, \n",
        "                        epochs=EPOCHS) "
      ],
      "execution_count": null,
      "outputs": [
        {
          "output_type": "stream",
          "text": [
            "[INFO] compiling model...\n",
            "[INFO] training head...\n",
            "WARNING:tensorflow:From <ipython-input-17-4d2596f3693e>:12: Model.fit_generator (from tensorflow.python.keras.engine.training) is deprecated and will be removed in a future version.\n",
            "Instructions for updating:\n",
            "Please use Model.fit, which supports generators.\n",
            "Epoch 1/25\n",
            "5/5 [==============================] - 1s 201ms/step - loss: 0.7775 - accuracy: 0.5000 - val_loss: 0.6673 - val_accuracy: 0.5000\n",
            "Epoch 2/25\n",
            "5/5 [==============================] - 0s 93ms/step - loss: 0.8379 - accuracy: 0.5000 - val_loss: 0.6624 - val_accuracy: 0.5000\n",
            "Epoch 3/25\n",
            "5/5 [==============================] - 0s 90ms/step - loss: 0.6303 - accuracy: 0.6000 - val_loss: 0.6243 - val_accuracy: 0.7000\n",
            "Epoch 4/25\n",
            "5/5 [==============================] - 0s 95ms/step - loss: 0.6780 - accuracy: 0.5750 - val_loss: 0.6051 - val_accuracy: 0.8000\n",
            "Epoch 5/25\n",
            "5/5 [==============================] - 0s 93ms/step - loss: 0.7158 - accuracy: 0.5750 - val_loss: 0.5867 - val_accuracy: 0.9000\n",
            "Epoch 6/25\n",
            "5/5 [==============================] - 0s 91ms/step - loss: 0.6759 - accuracy: 0.6000 - val_loss: 0.5742 - val_accuracy: 0.9000\n",
            "Epoch 7/25\n",
            "5/5 [==============================] - 0s 93ms/step - loss: 0.6786 - accuracy: 0.6250 - val_loss: 0.5592 - val_accuracy: 1.0000\n",
            "Epoch 8/25\n",
            "5/5 [==============================] - 0s 90ms/step - loss: 0.6139 - accuracy: 0.6500 - val_loss: 0.5464 - val_accuracy: 1.0000\n",
            "Epoch 9/25\n",
            "5/5 [==============================] - 0s 93ms/step - loss: 0.6285 - accuracy: 0.5750 - val_loss: 0.5294 - val_accuracy: 1.0000\n",
            "Epoch 10/25\n",
            "5/5 [==============================] - 0s 95ms/step - loss: 0.5978 - accuracy: 0.6750 - val_loss: 0.5109 - val_accuracy: 1.0000\n",
            "Epoch 11/25\n",
            "5/5 [==============================] - 0s 91ms/step - loss: 0.5820 - accuracy: 0.7250 - val_loss: 0.5077 - val_accuracy: 0.9000\n",
            "Epoch 12/25\n",
            "5/5 [==============================] - 0s 96ms/step - loss: 0.5638 - accuracy: 0.7750 - val_loss: 0.5024 - val_accuracy: 1.0000\n",
            "Epoch 13/25\n",
            "5/5 [==============================] - 0s 93ms/step - loss: 0.5305 - accuracy: 0.8000 - val_loss: 0.4850 - val_accuracy: 1.0000\n",
            "Epoch 14/25\n",
            "5/5 [==============================] - 0s 93ms/step - loss: 0.5019 - accuracy: 0.8000 - val_loss: 0.4766 - val_accuracy: 0.9000\n",
            "Epoch 15/25\n",
            "5/5 [==============================] - 0s 99ms/step - loss: 0.5081 - accuracy: 0.8500 - val_loss: 0.4582 - val_accuracy: 1.0000\n",
            "Epoch 16/25\n",
            "5/5 [==============================] - 0s 93ms/step - loss: 0.4854 - accuracy: 0.8750 - val_loss: 0.4445 - val_accuracy: 1.0000\n",
            "Epoch 17/25\n",
            "5/5 [==============================] - 0s 95ms/step - loss: 0.4857 - accuracy: 0.8250 - val_loss: 0.4325 - val_accuracy: 1.0000\n",
            "Epoch 18/25\n",
            "5/5 [==============================] - 0s 92ms/step - loss: 0.5026 - accuracy: 0.7500 - val_loss: 0.4222 - val_accuracy: 1.0000\n",
            "Epoch 19/25\n",
            "5/5 [==============================] - 0s 93ms/step - loss: 0.4980 - accuracy: 0.8000 - val_loss: 0.4067 - val_accuracy: 1.0000\n",
            "Epoch 20/25\n",
            "5/5 [==============================] - 0s 96ms/step - loss: 0.4563 - accuracy: 0.8750 - val_loss: 0.3924 - val_accuracy: 1.0000\n",
            "Epoch 21/25\n",
            "5/5 [==============================] - 0s 92ms/step - loss: 0.4378 - accuracy: 0.9000 - val_loss: 0.3790 - val_accuracy: 1.0000\n",
            "Epoch 22/25\n",
            "5/5 [==============================] - 0s 97ms/step - loss: 0.4420 - accuracy: 0.8500 - val_loss: 0.3655 - val_accuracy: 1.0000\n",
            "Epoch 23/25\n",
            "5/5 [==============================] - 0s 93ms/step - loss: 0.3823 - accuracy: 0.9000 - val_loss: 0.3508 - val_accuracy: 1.0000\n",
            "Epoch 24/25\n",
            "5/5 [==============================] - 0s 97ms/step - loss: 0.3886 - accuracy: 0.9000 - val_loss: 0.3369 - val_accuracy: 1.0000\n",
            "Epoch 25/25\n",
            "5/5 [==============================] - 0s 96ms/step - loss: 0.3648 - accuracy: 0.9250 - val_loss: 0.3285 - val_accuracy: 1.0000\n"
          ],
          "name": "stdout"
        }
      ]
    },
    {
      "cell_type": "code",
      "metadata": {
        "id": "QP_dwh2KUx_a",
        "colab_type": "code",
        "colab": {
          "base_uri": "https://localhost:8080/",
          "height": 190
        },
        "outputId": "af5d63b5-8ac7-47da-92c7-e58f0b76f7dd"
      },
      "source": [
        "# make predictions on the testing set\n",
        "print('[INFO] evaluating network...')\n",
        "predIdxs = model.predict(testX, batch_size=BS)\n",
        "\n",
        "# for each image in the testing set we need to find the index of the\n",
        "# label with corresponding largest predicted probability\n",
        "predIdxs = np.argmax(predIdxs, axis=1)\n",
        "\n",
        "# show a nicely formatted classification report\n",
        "print(classification_report(testY.argmax(axis=1), predIdxs, target_names=lb.classes_))"
      ],
      "execution_count": null,
      "outputs": [
        {
          "output_type": "stream",
          "text": [
            "[INFO] evaluating network...\n",
            "              precision    recall  f1-score   support\n",
            "\n",
            "       covid       1.00      1.00      1.00         5\n",
            "      normal       1.00      1.00      1.00         5\n",
            "\n",
            "    accuracy                           1.00        10\n",
            "   macro avg       1.00      1.00      1.00        10\n",
            "weighted avg       1.00      1.00      1.00        10\n",
            "\n"
          ],
          "name": "stdout"
        }
      ]
    },
    {
      "cell_type": "code",
      "metadata": {
        "id": "I4TxPKDu8vrA",
        "colab_type": "code",
        "colab": {
          "base_uri": "https://localhost:8080/",
          "height": 35
        },
        "outputId": "06011100-757a-470b-babf-2f238843f5cb"
      },
      "source": [
        "predIdxs"
      ],
      "execution_count": null,
      "outputs": [
        {
          "output_type": "execute_result",
          "data": {
            "text/plain": [
              "array([1, 1, 1, 1, 0, 0, 0, 0, 1, 0])"
            ]
          },
          "metadata": {
            "tags": []
          },
          "execution_count": 19
        }
      ]
    },
    {
      "cell_type": "code",
      "metadata": {
        "id": "IMkJPRzBWyKM",
        "colab_type": "code",
        "colab": {
          "base_uri": "https://localhost:8080/",
          "height": 104
        },
        "outputId": "bd3aee73-c253-498e-c920-bfb3edd5dd0c"
      },
      "source": [
        "# compute the confusion matrix and and use it to derive the raw\n",
        "# accuracy, sensitivity, and specificity\n",
        "cm = confusion_matrix(testY.argmax(axis=1), predIdxs)\n",
        "total = sum(sum(cm))\n",
        "acc = (cm[0, 0] + cm[1, 1]) / total\n",
        "sensitivity = cm[0, 0] / (cm[0, 0] + cm[0, 1])\n",
        "specificity = cm[1, 1] / (cm[1, 0] + cm[1, 1])\n",
        "\n",
        "# show the confusion matrix, accuracy, sensitivity, and specificity\n",
        "print(cm)\n",
        "print(\"acc: {:.4f}\".format(acc))\n",
        "print(\"sensitivity: {:.4f}\".format(sensitivity))\n",
        "print(\"specificity: {:.4f}\".format(specificity))"
      ],
      "execution_count": null,
      "outputs": [
        {
          "output_type": "stream",
          "text": [
            "[[5 0]\n",
            " [0 5]]\n",
            "acc: 1.0000\n",
            "sensitivity: 1.0000\n",
            "specificity: 1.0000\n"
          ],
          "name": "stdout"
        }
      ]
    },
    {
      "cell_type": "markdown",
      "metadata": {
        "id": "LmcTNYXtDpLn",
        "colab_type": "text"
      },
      "source": [
        "# 학습 로스 보기"
      ]
    },
    {
      "cell_type": "code",
      "metadata": {
        "id": "5yG8ZatqYHKq",
        "colab_type": "code",
        "colab": {
          "base_uri": "https://localhost:8080/",
          "height": 299
        },
        "outputId": "c5248ba6-ccd4-4951-f09e-f51dfd734cab"
      },
      "source": [
        "# plot the training loss and accuracy\n",
        "N = EPOCHS\n",
        "plt.style.use('ggplot')\n",
        "plt.figure()\n",
        "plt.plot(np.arange(0, N), H.history[\"loss\"], label=\"train_loss\")\n",
        "plt.plot(np.arange(0, N), H.history[\"val_loss\"], label=\"val_loss\")\n",
        "plt.plot(np.arange(0, N), H.history[\"accuracy\"], label=\"train_acc\")\n",
        "plt.plot(np.arange(0, N), H.history[\"val_accuracy\"], label=\"val_acc\")\n",
        "plt.title('Training Loss and Accuracy on COVID-19 Dataset')\n",
        "plt.xlabel(\"Epoch #\")\n",
        "plt.ylabel(\"Loss/Accuracy\")\n",
        "plt.legend(loc=\"lower left\")\n",
        "plt.savefig(args[\"plot\"])"
      ],
      "execution_count": null,
      "outputs": [
        {
          "output_type": "display_data",
          "data": {
            "image/png": "[encoded data removed]",
            "text/plain": [
              "<Figure size 432x288 with 1 Axes>"
            ]
          },
          "metadata": {
            "tags": []
          }
        }
      ]
    },
    {
      "cell_type": "code",
      "metadata": {
        "id": "kczwVkoReefn",
        "colab_type": "code",
        "colab": {
          "base_uri": "https://localhost:8080/",
          "height": 35
        },
        "outputId": "e9ad8c05-a172-45a6-c34d-8eb0ea0b724c"
      },
      "source": [
        "# serialize the model to disk\n",
        "print(\"[INFO] saving COVID-19 detector model...\")\n",
        "model.save(args['model'], save_format='h5')"
      ],
      "execution_count": null,
      "outputs": [
        {
          "output_type": "stream",
          "text": [
            "[INFO] saving COVID-19 detector model...\n"
          ],
          "name": "stdout"
        }
      ]
    },
    {
      "cell_type": "markdown",
      "metadata": {
        "id": "2B1BnKI5DnKB",
        "colab_type": "text"
      },
      "source": [
        "# 테스트"
      ]
    },
    {
      "cell_type": "code",
      "metadata": {
        "id": "3NldE_moD_SC",
        "colab_type": "code",
        "colab": {
          "base_uri": "https://localhost:8080/",
          "height": 269
        },
        "outputId": "eaf1c212-1a6f-4032-a54d-05764f6b7d4e"
      },
      "source": [
        "# from tensorflow.keras.preprocessing.image import img_to_array\n",
        "from tensorflow.keras.models import load_model\n",
        "\n",
        "args = {\"model\":\"covid19.model\", \n",
        "        \"image1\":\"dataset/covid/lancet-case2b.jpg\",\n",
        "        \"image2\":\"dataset/normal/person438_bacteria_1893.jpeg\"}\n",
        "\n",
        "# load the image\n",
        "image = cv2.imread(args[\"image1\"])\n",
        "image = cv2.cvtColor(image, cv2.COLOR_BGR2RGB)\n",
        "image = cv2.resize(image, (224, 224))\n",
        "plt.imshow(image)\n",
        "plt.show()"
      ],
      "execution_count": null,
      "outputs": [
        {
          "output_type": "display_data",
          "data": {
            "image/png": "[encoded data removed]",
            "text/plain": [
              "<Figure size 432x288 with 1 Axes>"
            ]
          },
          "metadata": {
            "tags": []
          }
        }
      ]
    },
    {
      "cell_type": "code",
      "metadata": {
        "id": "mtTeT3QuED4u",
        "colab_type": "code",
        "colab": {
          "base_uri": "https://localhost:8080/",
          "height": 52
        },
        "outputId": "fb8488f7-aad5-4dee-d5a8-460d2dc787a4"
      },
      "source": [
        "print(image.shape)\n",
        "image = image.astype(\"float\") / 255.0\n",
        "image = np.array(image)\n",
        "image = np.expand_dims(image, axis=0)\n",
        "print(image.shape)\n"
      ],
      "execution_count": null,
      "outputs": [
        {
          "output_type": "stream",
          "text": [
            "(224, 224, 3)\n",
            "(1, 224, 224, 3)\n"
          ],
          "name": "stdout"
        }
      ]
    },
    {
      "cell_type": "code",
      "metadata": {
        "id": "eP6lfuN1EG_e",
        "colab_type": "code",
        "colab": {
          "base_uri": "https://localhost:8080/",
          "height": 35
        },
        "outputId": "7975e010-6630-441b-fce7-a3a6c3704879"
      },
      "source": [
        "print(\"[INFO] loading network...\")\n",
        "model = load_model(args[\"model\"])"
      ],
      "execution_count": null,
      "outputs": [
        {
          "output_type": "stream",
          "text": [
            "[INFO] loading network...\n"
          ],
          "name": "stdout"
        }
      ]
    },
    {
      "cell_type": "code",
      "metadata": {
        "id": "B7C_sTSvzNAz",
        "colab_type": "code",
        "colab": {
          "base_uri": "https://localhost:8080/",
          "height": 52
        },
        "outputId": "231e88cc-008d-47d4-d042-3723020b6b8d"
      },
      "source": [
        "# classify the input image using Keras' multi-output functionality\n",
        "print(\"[INFO] classifying image...\")\n",
        "categoryProba = model.predict(image)\n",
        "\n",
        "categoryIdx = categoryProba[0].argmax()\n",
        "categoryLabel = lb.classes_[categoryIdx]\n",
        "\n",
        "# draw the category label and color label on the image\n",
        "categoryText = \"result: {} ({:.2f}%)\".format(categoryLabel,categoryProba[0][categoryIdx] * 100)\n",
        "print(categoryText)"
      ],
      "execution_count": null,
      "outputs": [
        {
          "output_type": "stream",
          "text": [
            "[INFO] classifying image...\n",
            "result: covid (76.59%)\n"
          ],
          "name": "stdout"
        }
      ]
    },
    {
      "cell_type": "code",
      "metadata": {
        "id": "QP5rSP9rNhU_",
        "colab_type": "code",
        "colab": {
          "resources": {
            "http://localhost:8080/nbextensions/google.colab/files.js": {
              "data": "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",
              "ok": true,
              "headers": [
                [
                  "content-type",
                  "application/javascript"
                ]
              ],
              "status": 200,
              "status_text": ""
            }
          },
          "base_uri": "https://localhost:8080/",
          "height": 38
        },
        "outputId": "fa1db15c-97a2-4bbe-e7fa-3b4eff50ed40"
      },
      "source": [
        "from google.colab import files\n",
        "from tensorflow.keras.models import load_model\n",
        "\n",
        "uploaded = files.upload()\n",
        "\n",
        "for fn in uploaded.keys():\n",
        " \n",
        "  # predicting images\n",
        "  path = '/content/' + fn\n",
        "  img = cv2.imread(path)\n",
        "  img = cv2.cvtColor(img, cv2.COLOR_BGR2RGB)\n",
        "  img = cv2.resize(img, (224, 224))\n",
        "  plt.imshow(img)\n",
        "  plt.show()\n",
        "\n",
        "  x = img.astype('float') / 255.0\n",
        "  x = np.array(x)\n",
        "  x = np.expand_dims(x, axis=0)\n",
        "\n",
        "  #\n",
        "  print(\"[INFO] loading network...\")\n",
        "  model = load_model(args[\"model\"])\n",
        "  \n",
        "  #\n",
        "  clsProba = model.predict(x)\n",
        "  clsIdx = cls[0].argmax()\n",
        "  clsLabel = lb.classes_[clsIdx]\n",
        "  \n",
        "  # draw the category label and color label on the image\n",
        "  categoryText = \"category: {} ({:.2f}%)\".format(clsLabel, clsProba[0][clsIdx] * 100)\n",
        "  print(categoryText) "
      ],
      "execution_count": null,
      "outputs": [
        {
          "output_type": "display_data",
          "data": {
            "text/html": [
              "\n",
              "     <input type=\"file\" id=\"files-13b16f78-19b6-4072-bff5-b19932b5e31d\" name=\"files[]\" multiple disabled\n",
              "        style=\"border:none\" />\n",
              "     <output id=\"result-13b16f78-19b6-4072-bff5-b19932b5e31d\">\n",
              "      Upload widget is only available when the cell has been executed in the\n",
              "      current browser session. Please rerun this cell to enable.\n",
              "      </output>\n",
              "      <script src=\"/nbextensions/google.colab/files.js\"></script> "
            ],
            "text/plain": [
              "<IPython.core.display.HTML object>"
            ]
          },
          "metadata": {
            "tags": []
          }
        }
      ]
    },
    {
      "cell_type": "code",
      "metadata": {
        "id": "tIG7h3AdNqBD",
        "colab_type": "code",
        "colab": {}
      },
      "source": [
        ""
      ],
      "execution_count": null,
      "outputs": []
    }
  ]
}